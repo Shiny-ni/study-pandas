{
 "cells": [
  {
   "cell_type": "markdown",
   "id": "47e9dcb1-7468-4309-94c9-17a77a363141",
   "metadata": {},
   "source": [
    "# 04.Pandas查询数据"
   ]
  },
  {
   "cell_type": "markdown",
   "id": "9d5e75db-0a56-49ea-880a-9b62532699c2",
   "metadata": {},
   "source": [
    "## Pandas查询的几种方法：\n",
    "#### ① df.loc方法，根据行、列的标签值查询（.loc既能查询，又能覆盖写入。）\n",
    "#### ② df.iloc方法，根据行、列的数字位置查询\n",
    "#### ③ df.where方法\n",
    "#### ④ df.query方法\n",
    "\n",
    "## Pandas使用df.loc查询数据的方法：\n",
    "#### 1.使用单个label值查询数据\n",
    "#### 2.使用值列表批量查询\n",
    "#### 3.使用数值区间进行范围查询\n",
    "#### 4.使用条件表达式查询\n",
    "#### 5.调用函数查询\n",
    "\n",
    "## 注意：\n",
    "#### · 以上查询方法，既适用于行，也适用于列\n",
    "#### · 注意观察降维DataFrame->Series->值"
   ]
  },
  {
   "cell_type": "code",
   "execution_count": 3,
   "id": "14c9e570-4eef-4007-bccf-aaee5c986ab5",
   "metadata": {},
   "outputs": [],
   "source": [
    "import pandas as pd"
   ]
  },
  {
   "cell_type": "markdown",
   "id": "10508c24-512a-4dbf-94cc-934372fbbca8",
   "metadata": {},
   "source": [
    "## 0、读取数据"
   ]
  },
  {
   "cell_type": "code",
   "execution_count": 111,
   "id": "90c6ef37-9a35-4010-bf1c-ad45fc6db736",
   "metadata": {},
   "outputs": [],
   "source": [
    "df=pd.read_csv(\"./datas/beijing_tianqi/beijing_tianqi_2018.csv\",encoding='gbk')\n",
    "# 这里显示用utf-8编码去解码CSV文件时，遇到无法识别的字节，所有尝试用其他常见编码，如encording='gbk'。"
   ]
  },
  {
   "cell_type": "code",
   "execution_count": 112,
   "id": "3cc93f40-8d5f-4ba0-adf6-64f6458769b8",
   "metadata": {},
   "outputs": [
    {
     "data": {
      "text/html": [
       "<div>\n",
       "<style scoped>\n",
       "    .dataframe tbody tr th:only-of-type {\n",
       "        vertical-align: middle;\n",
       "    }\n",
       "\n",
       "    .dataframe tbody tr th {\n",
       "        vertical-align: top;\n",
       "    }\n",
       "\n",
       "    .dataframe thead th {\n",
       "        text-align: right;\n",
       "    }\n",
       "</style>\n",
       "<table border=\"1\" class=\"dataframe\">\n",
       "  <thead>\n",
       "    <tr style=\"text-align: right;\">\n",
       "      <th></th>\n",
       "      <th>ymd</th>\n",
       "      <th>bWendu</th>\n",
       "      <th>yWendu</th>\n",
       "      <th>tianqi</th>\n",
       "      <th>fengxiang</th>\n",
       "      <th>fengli</th>\n",
       "      <th>aqi</th>\n",
       "      <th>aqiInfo</th>\n",
       "      <th>aqiLevel</th>\n",
       "    </tr>\n",
       "  </thead>\n",
       "  <tbody>\n",
       "    <tr>\n",
       "      <th>0</th>\n",
       "      <td>2018-01-01</td>\n",
       "      <td>3℃</td>\n",
       "      <td>-6℃</td>\n",
       "      <td>晴~多云</td>\n",
       "      <td>东北风</td>\n",
       "      <td>1-2级</td>\n",
       "      <td>59</td>\n",
       "      <td>良</td>\n",
       "      <td>2</td>\n",
       "    </tr>\n",
       "    <tr>\n",
       "      <th>1</th>\n",
       "      <td>2018-01-02</td>\n",
       "      <td>2℃</td>\n",
       "      <td>-5℃</td>\n",
       "      <td>阴~多云</td>\n",
       "      <td>东北风</td>\n",
       "      <td>1-2级</td>\n",
       "      <td>49</td>\n",
       "      <td>优</td>\n",
       "      <td>1</td>\n",
       "    </tr>\n",
       "    <tr>\n",
       "      <th>2</th>\n",
       "      <td>2018-01-03</td>\n",
       "      <td>2℃</td>\n",
       "      <td>-5℃</td>\n",
       "      <td>多云</td>\n",
       "      <td>北风</td>\n",
       "      <td>1-2级</td>\n",
       "      <td>28</td>\n",
       "      <td>优</td>\n",
       "      <td>1</td>\n",
       "    </tr>\n",
       "    <tr>\n",
       "      <th>3</th>\n",
       "      <td>2018-01-04</td>\n",
       "      <td>0℃</td>\n",
       "      <td>-8℃</td>\n",
       "      <td>阴</td>\n",
       "      <td>东北风</td>\n",
       "      <td>1-2级</td>\n",
       "      <td>28</td>\n",
       "      <td>优</td>\n",
       "      <td>1</td>\n",
       "    </tr>\n",
       "    <tr>\n",
       "      <th>4</th>\n",
       "      <td>2018-01-05</td>\n",
       "      <td>3℃</td>\n",
       "      <td>-6℃</td>\n",
       "      <td>多云~晴</td>\n",
       "      <td>西北风</td>\n",
       "      <td>1-2级</td>\n",
       "      <td>50</td>\n",
       "      <td>优</td>\n",
       "      <td>1</td>\n",
       "    </tr>\n",
       "  </tbody>\n",
       "</table>\n",
       "</div>"
      ],
      "text/plain": [
       "          ymd bWendu yWendu tianqi fengxiang fengli  aqi aqiInfo  aqiLevel\n",
       "0  2018-01-01     3℃    -6℃   晴~多云       东北风   1-2级   59       良         2\n",
       "1  2018-01-02     2℃    -5℃   阴~多云       东北风   1-2级   49       优         1\n",
       "2  2018-01-03     2℃    -5℃     多云        北风   1-2级   28       优         1\n",
       "3  2018-01-04     0℃    -8℃      阴       东北风   1-2级   28       优         1\n",
       "4  2018-01-05     3℃    -6℃   多云~晴       西北风   1-2级   50       优         1"
      ]
     },
     "execution_count": 112,
     "metadata": {},
     "output_type": "execute_result"
    }
   ],
   "source": [
    "df.head()"
   ]
  },
  {
   "cell_type": "code",
   "execution_count": 113,
   "id": "dda6056d-e65d-4a98-89ca-1a9a8d449302",
   "metadata": {},
   "outputs": [],
   "source": [
    "# 设定索引为日期，方便按日期筛选\n",
    "df.set_index('ymd',inplace=True)"
   ]
  },
  {
   "cell_type": "code",
   "execution_count": 114,
   "id": "88e64b75-c4e6-4d6b-8e01-884e65876bed",
   "metadata": {},
   "outputs": [
    {
     "data": {
      "text/plain": [
       "Index(['2018-01-01', '2018-01-02', '2018-01-03', '2018-01-04', '2018-01-05',\n",
       "       '2018-01-06', '2018-01-07', '2018-01-08', '2018-01-09', '2018-01/10',\n",
       "       '2025-06-08'],\n",
       "      dtype='object', name='ymd')"
      ]
     },
     "execution_count": 114,
     "metadata": {},
     "output_type": "execute_result"
    }
   ],
   "source": [
    "# 时间序列见后续课程，本次按字符串处理\n",
    "df.index"
   ]
  },
  {
   "cell_type": "code",
   "execution_count": 115,
   "id": "c8d7d517-f672-4b0b-b05c-fe9ec5f95c5e",
   "metadata": {},
   "outputs": [
    {
     "data": {
      "text/html": [
       "<div>\n",
       "<style scoped>\n",
       "    .dataframe tbody tr th:only-of-type {\n",
       "        vertical-align: middle;\n",
       "    }\n",
       "\n",
       "    .dataframe tbody tr th {\n",
       "        vertical-align: top;\n",
       "    }\n",
       "\n",
       "    .dataframe thead th {\n",
       "        text-align: right;\n",
       "    }\n",
       "</style>\n",
       "<table border=\"1\" class=\"dataframe\">\n",
       "  <thead>\n",
       "    <tr style=\"text-align: right;\">\n",
       "      <th></th>\n",
       "      <th>bWendu</th>\n",
       "      <th>yWendu</th>\n",
       "      <th>tianqi</th>\n",
       "      <th>fengxiang</th>\n",
       "      <th>fengli</th>\n",
       "      <th>aqi</th>\n",
       "      <th>aqiInfo</th>\n",
       "      <th>aqiLevel</th>\n",
       "    </tr>\n",
       "    <tr>\n",
       "      <th>ymd</th>\n",
       "      <th></th>\n",
       "      <th></th>\n",
       "      <th></th>\n",
       "      <th></th>\n",
       "      <th></th>\n",
       "      <th></th>\n",
       "      <th></th>\n",
       "      <th></th>\n",
       "    </tr>\n",
       "  </thead>\n",
       "  <tbody>\n",
       "    <tr>\n",
       "      <th>2018-01-01</th>\n",
       "      <td>3℃</td>\n",
       "      <td>-6℃</td>\n",
       "      <td>晴~多云</td>\n",
       "      <td>东北风</td>\n",
       "      <td>1-2级</td>\n",
       "      <td>59</td>\n",
       "      <td>良</td>\n",
       "      <td>2</td>\n",
       "    </tr>\n",
       "    <tr>\n",
       "      <th>2018-01-02</th>\n",
       "      <td>2℃</td>\n",
       "      <td>-5℃</td>\n",
       "      <td>阴~多云</td>\n",
       "      <td>东北风</td>\n",
       "      <td>1-2级</td>\n",
       "      <td>49</td>\n",
       "      <td>优</td>\n",
       "      <td>1</td>\n",
       "    </tr>\n",
       "    <tr>\n",
       "      <th>2018-01-03</th>\n",
       "      <td>2℃</td>\n",
       "      <td>-5℃</td>\n",
       "      <td>多云</td>\n",
       "      <td>北风</td>\n",
       "      <td>1-2级</td>\n",
       "      <td>28</td>\n",
       "      <td>优</td>\n",
       "      <td>1</td>\n",
       "    </tr>\n",
       "    <tr>\n",
       "      <th>2018-01-04</th>\n",
       "      <td>0℃</td>\n",
       "      <td>-8℃</td>\n",
       "      <td>阴</td>\n",
       "      <td>东北风</td>\n",
       "      <td>1-2级</td>\n",
       "      <td>28</td>\n",
       "      <td>优</td>\n",
       "      <td>1</td>\n",
       "    </tr>\n",
       "    <tr>\n",
       "      <th>2018-01-05</th>\n",
       "      <td>3℃</td>\n",
       "      <td>-6℃</td>\n",
       "      <td>多云~晴</td>\n",
       "      <td>西北风</td>\n",
       "      <td>1-2级</td>\n",
       "      <td>50</td>\n",
       "      <td>优</td>\n",
       "      <td>1</td>\n",
       "    </tr>\n",
       "  </tbody>\n",
       "</table>\n",
       "</div>"
      ],
      "text/plain": [
       "           bWendu yWendu tianqi fengxiang fengli  aqi aqiInfo  aqiLevel\n",
       "ymd                                                                    \n",
       "2018-01-01     3℃    -6℃   晴~多云       东北风   1-2级   59       良         2\n",
       "2018-01-02     2℃    -5℃   阴~多云       东北风   1-2级   49       优         1\n",
       "2018-01-03     2℃    -5℃     多云        北风   1-2级   28       优         1\n",
       "2018-01-04     0℃    -8℃      阴       东北风   1-2级   28       优         1\n",
       "2018-01-05     3℃    -6℃   多云~晴       西北风   1-2级   50       优         1"
      ]
     },
     "execution_count": 115,
     "metadata": {},
     "output_type": "execute_result"
    }
   ],
   "source": [
    "df.head()"
   ]
  },
  {
   "cell_type": "code",
   "execution_count": 116,
   "id": "e577d94c-ca27-413e-be1f-de156041cb42",
   "metadata": {},
   "outputs": [],
   "source": [
    "# 温度那两列带了一个℃的后缀，如果要对这两列进行数字化的处理，就要替换掉温度的后缀℃\n",
    "df.loc[:,\"bWendu\"]=df[\"bWendu\"].str.replace(\"℃\",\"\").astype('int32')\n",
    "df.loc[:,\"yWendu\"]=df[\"yWendu\"].str.replace(\"℃\",\"\").astype('int32')"
   ]
  },
  {
   "cell_type": "markdown",
   "id": "f5284b65-d3df-478a-88ba-819a41f93797",
   "metadata": {},
   "source": [
    "#### 以处理bWendu列为例：\n",
    "#### 1、df.loc[:,\"bWendu\"]：用loc定位DataFrame里的bWendu列，:表示选中所有行。\n",
    "#### 2、df[\"bWendu\"].str.replace(\"℃\",\"\")：先对bWendu列调用.str（把列当字符串序列处理），再用.repalce(\"℃\",\"\")替换，把每个单元格里面的℃字符删掉。\n",
    "#### 3、.astype('int32')：把替换后得到的字符串（纯数字形式）转成int32整数类型，方便后续做数值运算。"
   ]
  },
  {
   "cell_type": "code",
   "execution_count": 117,
   "id": "8ef21ba7-48c2-4711-97b3-7f8ce151c582",
   "metadata": {},
   "outputs": [
    {
     "data": {
      "text/plain": [
       "bWendu       object\n",
       "yWendu       object\n",
       "tianqi       object\n",
       "fengxiang    object\n",
       "fengli       object\n",
       "aqi           int64\n",
       "aqiInfo      object\n",
       "aqiLevel      int64\n",
       "dtype: object"
      ]
     },
     "execution_count": 117,
     "metadata": {},
     "output_type": "execute_result"
    }
   ],
   "source": [
    "df.dtypes"
   ]
  },
  {
   "cell_type": "code",
   "execution_count": 118,
   "id": "73b3cffa-31ae-49a7-9e94-02e171888b8f",
   "metadata": {},
   "outputs": [
    {
     "data": {
      "text/html": [
       "<div>\n",
       "<style scoped>\n",
       "    .dataframe tbody tr th:only-of-type {\n",
       "        vertical-align: middle;\n",
       "    }\n",
       "\n",
       "    .dataframe tbody tr th {\n",
       "        vertical-align: top;\n",
       "    }\n",
       "\n",
       "    .dataframe thead th {\n",
       "        text-align: right;\n",
       "    }\n",
       "</style>\n",
       "<table border=\"1\" class=\"dataframe\">\n",
       "  <thead>\n",
       "    <tr style=\"text-align: right;\">\n",
       "      <th></th>\n",
       "      <th>bWendu</th>\n",
       "      <th>yWendu</th>\n",
       "      <th>tianqi</th>\n",
       "      <th>fengxiang</th>\n",
       "      <th>fengli</th>\n",
       "      <th>aqi</th>\n",
       "      <th>aqiInfo</th>\n",
       "      <th>aqiLevel</th>\n",
       "    </tr>\n",
       "    <tr>\n",
       "      <th>ymd</th>\n",
       "      <th></th>\n",
       "      <th></th>\n",
       "      <th></th>\n",
       "      <th></th>\n",
       "      <th></th>\n",
       "      <th></th>\n",
       "      <th></th>\n",
       "      <th></th>\n",
       "    </tr>\n",
       "  </thead>\n",
       "  <tbody>\n",
       "    <tr>\n",
       "      <th>2018-01-01</th>\n",
       "      <td>3</td>\n",
       "      <td>-6</td>\n",
       "      <td>晴~多云</td>\n",
       "      <td>东北风</td>\n",
       "      <td>1-2级</td>\n",
       "      <td>59</td>\n",
       "      <td>良</td>\n",
       "      <td>2</td>\n",
       "    </tr>\n",
       "    <tr>\n",
       "      <th>2018-01-02</th>\n",
       "      <td>2</td>\n",
       "      <td>-5</td>\n",
       "      <td>阴~多云</td>\n",
       "      <td>东北风</td>\n",
       "      <td>1-2级</td>\n",
       "      <td>49</td>\n",
       "      <td>优</td>\n",
       "      <td>1</td>\n",
       "    </tr>\n",
       "    <tr>\n",
       "      <th>2018-01-03</th>\n",
       "      <td>2</td>\n",
       "      <td>-5</td>\n",
       "      <td>多云</td>\n",
       "      <td>北风</td>\n",
       "      <td>1-2级</td>\n",
       "      <td>28</td>\n",
       "      <td>优</td>\n",
       "      <td>1</td>\n",
       "    </tr>\n",
       "    <tr>\n",
       "      <th>2018-01-04</th>\n",
       "      <td>0</td>\n",
       "      <td>-8</td>\n",
       "      <td>阴</td>\n",
       "      <td>东北风</td>\n",
       "      <td>1-2级</td>\n",
       "      <td>28</td>\n",
       "      <td>优</td>\n",
       "      <td>1</td>\n",
       "    </tr>\n",
       "    <tr>\n",
       "      <th>2018-01-05</th>\n",
       "      <td>3</td>\n",
       "      <td>-6</td>\n",
       "      <td>多云~晴</td>\n",
       "      <td>西北风</td>\n",
       "      <td>1-2级</td>\n",
       "      <td>50</td>\n",
       "      <td>优</td>\n",
       "      <td>1</td>\n",
       "    </tr>\n",
       "  </tbody>\n",
       "</table>\n",
       "</div>"
      ],
      "text/plain": [
       "           bWendu yWendu tianqi fengxiang fengli  aqi aqiInfo  aqiLevel\n",
       "ymd                                                                    \n",
       "2018-01-01      3     -6   晴~多云       东北风   1-2级   59       良         2\n",
       "2018-01-02      2     -5   阴~多云       东北风   1-2级   49       优         1\n",
       "2018-01-03      2     -5     多云        北风   1-2级   28       优         1\n",
       "2018-01-04      0     -8      阴       东北风   1-2级   28       优         1\n",
       "2018-01-05      3     -6   多云~晴       西北风   1-2级   50       优         1"
      ]
     },
     "execution_count": 118,
     "metadata": {},
     "output_type": "execute_result"
    }
   ],
   "source": [
    "df.head()"
   ]
  },
  {
   "cell_type": "markdown",
   "id": "d5c8b3fc-26bb-453e-bcde-04e2c5bad139",
   "metadata": {},
   "source": [
    "## 1、使用单个label值查询数据"
   ]
  },
  {
   "cell_type": "code",
   "execution_count": 119,
   "id": "e9fbd52a-8081-4ead-8ed5-73c6dc915c65",
   "metadata": {},
   "outputs": [
    {
     "data": {
      "text/plain": [
       "2"
      ]
     },
     "execution_count": 119,
     "metadata": {},
     "output_type": "execute_result"
    }
   ],
   "source": [
    "# 得到单个值\n",
    "df.loc['2018-01-03','bWendu']\n",
    "# 这里的单个label值指的是'2018-01-03'"
   ]
  },
  {
   "cell_type": "code",
   "execution_count": 120,
   "id": "caa8579d-8d5b-4f05-aa6c-7f6d5b8e9732",
   "metadata": {},
   "outputs": [
    {
     "data": {
      "text/plain": [
       "bWendu     2\n",
       "yWendu    -5\n",
       "Name: 2018-01-03, dtype: object"
      ]
     },
     "execution_count": 120,
     "metadata": {},
     "output_type": "execute_result"
    }
   ],
   "source": [
    "# 得到一个Series\n",
    "df.loc['2018-01-03',['bWendu','yWendu']]"
   ]
  },
  {
   "cell_type": "markdown",
   "id": "04d39f34-d2de-4683-b98f-0fc6b502c171",
   "metadata": {},
   "source": [
    "## 2、使用值列表批量查询"
   ]
  },
  {
   "cell_type": "code",
   "execution_count": 121,
   "id": "ca5ccdce-b731-4114-9665-14051e6ca8c9",
   "metadata": {},
   "outputs": [
    {
     "data": {
      "text/plain": [
       "ymd\n",
       "2018-01-03    2\n",
       "2018-01-04    0\n",
       "2018-01-05    3\n",
       "Name: bWendu, dtype: object"
      ]
     },
     "execution_count": 121,
     "metadata": {},
     "output_type": "execute_result"
    }
   ],
   "source": [
    "# 得到Series\n",
    "df.loc[['2018-01-03','2018-01-04','2018-01-05'],'bWendu']"
   ]
  },
  {
   "cell_type": "code",
   "execution_count": 122,
   "id": "c7b94698-c359-4cac-a96f-6866fdd583ed",
   "metadata": {},
   "outputs": [
    {
     "data": {
      "text/html": [
       "<div>\n",
       "<style scoped>\n",
       "    .dataframe tbody tr th:only-of-type {\n",
       "        vertical-align: middle;\n",
       "    }\n",
       "\n",
       "    .dataframe tbody tr th {\n",
       "        vertical-align: top;\n",
       "    }\n",
       "\n",
       "    .dataframe thead th {\n",
       "        text-align: right;\n",
       "    }\n",
       "</style>\n",
       "<table border=\"1\" class=\"dataframe\">\n",
       "  <thead>\n",
       "    <tr style=\"text-align: right;\">\n",
       "      <th></th>\n",
       "      <th>bWendu</th>\n",
       "      <th>yWendu</th>\n",
       "    </tr>\n",
       "    <tr>\n",
       "      <th>ymd</th>\n",
       "      <th></th>\n",
       "      <th></th>\n",
       "    </tr>\n",
       "  </thead>\n",
       "  <tbody>\n",
       "    <tr>\n",
       "      <th>2018-01-03</th>\n",
       "      <td>2</td>\n",
       "      <td>-5</td>\n",
       "    </tr>\n",
       "    <tr>\n",
       "      <th>2018-01-04</th>\n",
       "      <td>0</td>\n",
       "      <td>-8</td>\n",
       "    </tr>\n",
       "    <tr>\n",
       "      <th>2018-01-05</th>\n",
       "      <td>3</td>\n",
       "      <td>-6</td>\n",
       "    </tr>\n",
       "  </tbody>\n",
       "</table>\n",
       "</div>"
      ],
      "text/plain": [
       "           bWendu yWendu\n",
       "ymd                     \n",
       "2018-01-03      2     -5\n",
       "2018-01-04      0     -8\n",
       "2018-01-05      3     -6"
      ]
     },
     "execution_count": 122,
     "metadata": {},
     "output_type": "execute_result"
    }
   ],
   "source": [
    "# 得到DataFrame\n",
    "df.loc[['2018-01-03','2018-01-04','2018-01-05'],['bWendu','yWendu']]"
   ]
  },
  {
   "cell_type": "markdown",
   "id": "97375c06-a61d-43f8-a060-9682a6c5463f",
   "metadata": {},
   "source": [
    "## 3、使用数值区间进行范围查询\n",
    "#### 注意：区间既包含开始，也包含结束"
   ]
  },
  {
   "cell_type": "code",
   "execution_count": 123,
   "id": "f3fb6d37-ea5b-40fc-9083-1a9d2935efa3",
   "metadata": {},
   "outputs": [
    {
     "data": {
      "text/plain": [
       "ymd\n",
       "2018-01-03    2\n",
       "2018-01-04    0\n",
       "2018-01-05    3\n",
       "Name: bWendu, dtype: object"
      ]
     },
     "execution_count": 123,
     "metadata": {},
     "output_type": "execute_result"
    }
   ],
   "source": [
    "# 行index按区间\n",
    "df.loc['2018-01-03':'2018-01-05','bWendu']"
   ]
  },
  {
   "cell_type": "code",
   "execution_count": 124,
   "id": "a3e3827b-f9ea-4419-b122-38ead1be22a1",
   "metadata": {},
   "outputs": [
    {
     "data": {
      "text/plain": [
       "bWendu        2\n",
       "yWendu       -5\n",
       "tianqi       多云\n",
       "fengxiang    北风\n",
       "Name: 2018-01-03, dtype: object"
      ]
     },
     "execution_count": 124,
     "metadata": {},
     "output_type": "execute_result"
    }
   ],
   "source": [
    "# 列index按区间\n",
    "df.loc['2018-01-03','bWendu':'fengxiang']"
   ]
  },
  {
   "cell_type": "code",
   "execution_count": 125,
   "id": "4990ceb6-71a0-405f-9559-1f6a3e95426e",
   "metadata": {},
   "outputs": [
    {
     "data": {
      "text/html": [
       "<div>\n",
       "<style scoped>\n",
       "    .dataframe tbody tr th:only-of-type {\n",
       "        vertical-align: middle;\n",
       "    }\n",
       "\n",
       "    .dataframe tbody tr th {\n",
       "        vertical-align: top;\n",
       "    }\n",
       "\n",
       "    .dataframe thead th {\n",
       "        text-align: right;\n",
       "    }\n",
       "</style>\n",
       "<table border=\"1\" class=\"dataframe\">\n",
       "  <thead>\n",
       "    <tr style=\"text-align: right;\">\n",
       "      <th></th>\n",
       "      <th>bWendu</th>\n",
       "      <th>yWendu</th>\n",
       "      <th>tianqi</th>\n",
       "      <th>fengxiang</th>\n",
       "    </tr>\n",
       "    <tr>\n",
       "      <th>ymd</th>\n",
       "      <th></th>\n",
       "      <th></th>\n",
       "      <th></th>\n",
       "      <th></th>\n",
       "    </tr>\n",
       "  </thead>\n",
       "  <tbody>\n",
       "    <tr>\n",
       "      <th>2018-01-03</th>\n",
       "      <td>2</td>\n",
       "      <td>-5</td>\n",
       "      <td>多云</td>\n",
       "      <td>北风</td>\n",
       "    </tr>\n",
       "    <tr>\n",
       "      <th>2018-01-04</th>\n",
       "      <td>0</td>\n",
       "      <td>-8</td>\n",
       "      <td>阴</td>\n",
       "      <td>东北风</td>\n",
       "    </tr>\n",
       "    <tr>\n",
       "      <th>2018-01-05</th>\n",
       "      <td>3</td>\n",
       "      <td>-6</td>\n",
       "      <td>多云~晴</td>\n",
       "      <td>西北风</td>\n",
       "    </tr>\n",
       "  </tbody>\n",
       "</table>\n",
       "</div>"
      ],
      "text/plain": [
       "           bWendu yWendu tianqi fengxiang\n",
       "ymd                                      \n",
       "2018-01-03      2     -5     多云        北风\n",
       "2018-01-04      0     -8      阴       东北风\n",
       "2018-01-05      3     -6   多云~晴       西北风"
      ]
     },
     "execution_count": 125,
     "metadata": {},
     "output_type": "execute_result"
    }
   ],
   "source": [
    "# 行和列都按区间查询\n",
    "df.loc['2018-01-03':'2018-01-05','bWendu':'fengxiang']"
   ]
  },
  {
   "cell_type": "markdown",
   "id": "b8745174-3448-4e55-933a-bf3989086d6b",
   "metadata": {},
   "source": [
    "## 4、使用条件表达式查询"
   ]
  },
  {
   "cell_type": "markdown",
   "id": "0245234e-b276-4b83-8864-f7b74772fb22",
   "metadata": {},
   "source": [
    "### 简单条件查询，最低温度低于-6度的列表"
   ]
  },
  {
   "cell_type": "code",
   "execution_count": 126,
   "id": "d68fdd43-7d8d-4bfc-ae1e-f764f4a56299",
   "metadata": {},
   "outputs": [
    {
     "data": {
      "text/html": [
       "<div>\n",
       "<style scoped>\n",
       "    .dataframe tbody tr th:only-of-type {\n",
       "        vertical-align: middle;\n",
       "    }\n",
       "\n",
       "    .dataframe tbody tr th {\n",
       "        vertical-align: top;\n",
       "    }\n",
       "\n",
       "    .dataframe thead th {\n",
       "        text-align: right;\n",
       "    }\n",
       "</style>\n",
       "<table border=\"1\" class=\"dataframe\">\n",
       "  <thead>\n",
       "    <tr style=\"text-align: right;\">\n",
       "      <th></th>\n",
       "      <th>bWendu</th>\n",
       "      <th>yWendu</th>\n",
       "      <th>tianqi</th>\n",
       "      <th>fengxiang</th>\n",
       "      <th>fengli</th>\n",
       "      <th>aqi</th>\n",
       "      <th>aqiInfo</th>\n",
       "      <th>aqiLevel</th>\n",
       "    </tr>\n",
       "    <tr>\n",
       "      <th>ymd</th>\n",
       "      <th></th>\n",
       "      <th></th>\n",
       "      <th></th>\n",
       "      <th></th>\n",
       "      <th></th>\n",
       "      <th></th>\n",
       "      <th></th>\n",
       "      <th></th>\n",
       "    </tr>\n",
       "  </thead>\n",
       "  <tbody>\n",
       "    <tr>\n",
       "      <th>2018-01-04</th>\n",
       "      <td>0</td>\n",
       "      <td>-8</td>\n",
       "      <td>阴</td>\n",
       "      <td>东北风</td>\n",
       "      <td>1-2级</td>\n",
       "      <td>28</td>\n",
       "      <td>优</td>\n",
       "      <td>1</td>\n",
       "    </tr>\n",
       "    <tr>\n",
       "      <th>2018-01-09</th>\n",
       "      <td>1</td>\n",
       "      <td>-8</td>\n",
       "      <td>晴</td>\n",
       "      <td>西北风</td>\n",
       "      <td>3-4级</td>\n",
       "      <td>34</td>\n",
       "      <td>优</td>\n",
       "      <td>1</td>\n",
       "    </tr>\n",
       "    <tr>\n",
       "      <th>2018-01/10</th>\n",
       "      <td>-2</td>\n",
       "      <td>-10</td>\n",
       "      <td>晴</td>\n",
       "      <td>西北风</td>\n",
       "      <td>1-2级</td>\n",
       "      <td>26</td>\n",
       "      <td>优</td>\n",
       "      <td>1</td>\n",
       "    </tr>\n",
       "  </tbody>\n",
       "</table>\n",
       "</div>"
      ],
      "text/plain": [
       "           bWendu yWendu tianqi fengxiang fengli  aqi aqiInfo  aqiLevel\n",
       "ymd                                                                    \n",
       "2018-01-04      0     -8      阴       东北风   1-2级   28       优         1\n",
       "2018-01-09      1     -8      晴       西北风   3-4级   34       优         1\n",
       "2018-01/10     -2    -10      晴       西北风   1-2级   26       优         1"
      ]
     },
     "execution_count": 126,
     "metadata": {},
     "output_type": "execute_result"
    }
   ],
   "source": [
    "df.loc[df[\"yWendu\"]<-6,:]"
   ]
  },
  {
   "cell_type": "code",
   "execution_count": 127,
   "id": "e3eb1106-63da-4e63-a948-a450d778b0b6",
   "metadata": {},
   "outputs": [
    {
     "data": {
      "text/plain": [
       "ymd\n",
       "2018-01-01    False\n",
       "2018-01-02    False\n",
       "2018-01-03    False\n",
       "2018-01-04     True\n",
       "2018-01-05    False\n",
       "2018-01-06    False\n",
       "2018-01-07    False\n",
       "2018-01-08    False\n",
       "2018-01-09     True\n",
       "2018-01/10     True\n",
       "2025-06-08    False\n",
       "Name: yWendu, dtype: bool"
      ]
     },
     "execution_count": 127,
     "metadata": {},
     "output_type": "execute_result"
    }
   ],
   "source": [
    "# 观察一下这里的boolean条件\n",
    "df[\"yWendu\"]<-6"
   ]
  },
  {
   "cell_type": "markdown",
   "id": "c6a9da8b-0211-4326-b61f-84185bbb2cf7",
   "metadata": {},
   "source": [
    "### 复杂条件查询，查一下我心中的完美天气\n",
    "#### 注意：组合条件用&符号合并，每个条件判断都得带括号"
   ]
  },
  {
   "cell_type": "code",
   "execution_count": 128,
   "id": "c75d26dc-48c1-4c7c-b4ff-66e52a7f3f3a",
   "metadata": {},
   "outputs": [
    {
     "data": {
      "text/html": [
       "<div>\n",
       "<style scoped>\n",
       "    .dataframe tbody tr th:only-of-type {\n",
       "        vertical-align: middle;\n",
       "    }\n",
       "\n",
       "    .dataframe tbody tr th {\n",
       "        vertical-align: top;\n",
       "    }\n",
       "\n",
       "    .dataframe thead th {\n",
       "        text-align: right;\n",
       "    }\n",
       "</style>\n",
       "<table border=\"1\" class=\"dataframe\">\n",
       "  <thead>\n",
       "    <tr style=\"text-align: right;\">\n",
       "      <th></th>\n",
       "      <th>bWendu</th>\n",
       "      <th>yWendu</th>\n",
       "      <th>tianqi</th>\n",
       "      <th>fengxiang</th>\n",
       "      <th>fengli</th>\n",
       "      <th>aqi</th>\n",
       "      <th>aqiInfo</th>\n",
       "      <th>aqiLevel</th>\n",
       "    </tr>\n",
       "    <tr>\n",
       "      <th>ymd</th>\n",
       "      <th></th>\n",
       "      <th></th>\n",
       "      <th></th>\n",
       "      <th></th>\n",
       "      <th></th>\n",
       "      <th></th>\n",
       "      <th></th>\n",
       "      <th></th>\n",
       "    </tr>\n",
       "  </thead>\n",
       "  <tbody>\n",
       "    <tr>\n",
       "      <th>2025-06-08</th>\n",
       "      <td>25</td>\n",
       "      <td>16</td>\n",
       "      <td>晴</td>\n",
       "      <td>东南风</td>\n",
       "      <td>1-2级</td>\n",
       "      <td>30</td>\n",
       "      <td>优</td>\n",
       "      <td>1</td>\n",
       "    </tr>\n",
       "  </tbody>\n",
       "</table>\n",
       "</div>"
      ],
      "text/plain": [
       "           bWendu yWendu tianqi fengxiang fengli  aqi aqiInfo  aqiLevel\n",
       "ymd                                                                    \n",
       "2025-06-08     25     16      晴       东南风   1-2级   30       优         1"
      ]
     },
     "execution_count": 128,
     "metadata": {},
     "output_type": "execute_result"
    }
   ],
   "source": [
    "# 查询最高温度小于30度，并且最低温度大于15度，并且是晴天，并且天气为优的数据\n",
    "df.loc[(df[\"bWendu\"]<=30)&(df[\"yWendu\"]>=15)&(df[\"tianqi\"]=='晴')&(df[\"aqiLevel\"]==1),:]"
   ]
  },
  {
   "cell_type": "code",
   "execution_count": 129,
   "id": "1f57e785-b76b-4bbe-8364-5bb95a64aae7",
   "metadata": {},
   "outputs": [
    {
     "data": {
      "text/plain": [
       "ymd\n",
       "2018-01-01    False\n",
       "2018-01-02    False\n",
       "2018-01-03    False\n",
       "2018-01-04    False\n",
       "2018-01-05    False\n",
       "2018-01-06    False\n",
       "2018-01-07    False\n",
       "2018-01-08    False\n",
       "2018-01-09    False\n",
       "2018-01/10    False\n",
       "2025-06-08     True\n",
       "dtype: bool"
      ]
     },
     "execution_count": 129,
     "metadata": {},
     "output_type": "execute_result"
    }
   ],
   "source": [
    "# 再次观察这里的boolean条件\n",
    "(df[\"bWendu\"]<=30)&(df[\"yWendu\"]>=15)&(df[\"tianqi\"]=='晴')&(df[\"aqiLevel\"]==1)"
   ]
  },
  {
   "cell_type": "markdown",
   "id": "d95c165f-f687-42ac-984e-e749ae85db36",
   "metadata": {},
   "source": [
    "## 5、调用函数查询"
   ]
  },
  {
   "cell_type": "code",
   "execution_count": 130,
   "id": "2d15d2b7-6e6e-4ea9-8686-6d49b715ff20",
   "metadata": {},
   "outputs": [
    {
     "data": {
      "text/html": [
       "<div>\n",
       "<style scoped>\n",
       "    .dataframe tbody tr th:only-of-type {\n",
       "        vertical-align: middle;\n",
       "    }\n",
       "\n",
       "    .dataframe tbody tr th {\n",
       "        vertical-align: top;\n",
       "    }\n",
       "\n",
       "    .dataframe thead th {\n",
       "        text-align: right;\n",
       "    }\n",
       "</style>\n",
       "<table border=\"1\" class=\"dataframe\">\n",
       "  <thead>\n",
       "    <tr style=\"text-align: right;\">\n",
       "      <th></th>\n",
       "      <th>bWendu</th>\n",
       "      <th>yWendu</th>\n",
       "      <th>tianqi</th>\n",
       "      <th>fengxiang</th>\n",
       "      <th>fengli</th>\n",
       "      <th>aqi</th>\n",
       "      <th>aqiInfo</th>\n",
       "      <th>aqiLevel</th>\n",
       "    </tr>\n",
       "    <tr>\n",
       "      <th>ymd</th>\n",
       "      <th></th>\n",
       "      <th></th>\n",
       "      <th></th>\n",
       "      <th></th>\n",
       "      <th></th>\n",
       "      <th></th>\n",
       "      <th></th>\n",
       "      <th></th>\n",
       "    </tr>\n",
       "  </thead>\n",
       "  <tbody>\n",
       "    <tr>\n",
       "      <th>2025-06-08</th>\n",
       "      <td>25</td>\n",
       "      <td>16</td>\n",
       "      <td>晴</td>\n",
       "      <td>东南风</td>\n",
       "      <td>1-2级</td>\n",
       "      <td>30</td>\n",
       "      <td>优</td>\n",
       "      <td>1</td>\n",
       "    </tr>\n",
       "  </tbody>\n",
       "</table>\n",
       "</div>"
      ],
      "text/plain": [
       "           bWendu yWendu tianqi fengxiang fengli  aqi aqiInfo  aqiLevel\n",
       "ymd                                                                    \n",
       "2025-06-08     25     16      晴       东南风   1-2级   30       优         1"
      ]
     },
     "execution_count": 130,
     "metadata": {},
     "output_type": "execute_result"
    }
   ],
   "source": [
    "# 直接写lambda表达式\n",
    "df.loc[lambda df : (df[\"bWendu\"]<=30)&(df[\"yWendu\"]>=15),:]"
   ]
  },
  {
   "cell_type": "markdown",
   "id": "993536c4-0752-48b8-9fcf-f6452a8b144a",
   "metadata": {},
   "source": [
    "##### lambda df : (df[\"bWendu\"]<=30)&(df[\"yWendu\"]>=15)是一个lambda匿名函数（不用def定义的函数）\n",
    "##### 拆解如下：\n",
    "##### ·df是传入的参数，这里代表整个DataFrame（因为是在.loc里用，pandas会自动把当前DataFrame传给这个lambda）。\n",
    "##### ·冒号:后面是函数体，返回一个布尔条件。"
   ]
  },
  {
   "cell_type": "code",
   "execution_count": 132,
   "id": "04261feb-7774-40b1-ac51-f1268bd44a60",
   "metadata": {},
   "outputs": [
    {
     "data": {
      "text/html": [
       "<div>\n",
       "<style scoped>\n",
       "    .dataframe tbody tr th:only-of-type {\n",
       "        vertical-align: middle;\n",
       "    }\n",
       "\n",
       "    .dataframe tbody tr th {\n",
       "        vertical-align: top;\n",
       "    }\n",
       "\n",
       "    .dataframe thead th {\n",
       "        text-align: right;\n",
       "    }\n",
       "</style>\n",
       "<table border=\"1\" class=\"dataframe\">\n",
       "  <thead>\n",
       "    <tr style=\"text-align: right;\">\n",
       "      <th></th>\n",
       "      <th>bWendu</th>\n",
       "      <th>yWendu</th>\n",
       "      <th>tianqi</th>\n",
       "      <th>fengxiang</th>\n",
       "      <th>fengli</th>\n",
       "      <th>aqi</th>\n",
       "      <th>aqiInfo</th>\n",
       "      <th>aqiLevel</th>\n",
       "    </tr>\n",
       "    <tr>\n",
       "      <th>ymd</th>\n",
       "      <th></th>\n",
       "      <th></th>\n",
       "      <th></th>\n",
       "      <th></th>\n",
       "      <th></th>\n",
       "      <th></th>\n",
       "      <th></th>\n",
       "      <th></th>\n",
       "    </tr>\n",
       "  </thead>\n",
       "  <tbody>\n",
       "    <tr>\n",
       "      <th>2018-01-02</th>\n",
       "      <td>2</td>\n",
       "      <td>-5</td>\n",
       "      <td>阴~多云</td>\n",
       "      <td>东北风</td>\n",
       "      <td>1-2级</td>\n",
       "      <td>49</td>\n",
       "      <td>优</td>\n",
       "      <td>1</td>\n",
       "    </tr>\n",
       "    <tr>\n",
       "      <th>2018-01-03</th>\n",
       "      <td>2</td>\n",
       "      <td>-5</td>\n",
       "      <td>多云</td>\n",
       "      <td>北风</td>\n",
       "      <td>1-2级</td>\n",
       "      <td>28</td>\n",
       "      <td>优</td>\n",
       "      <td>1</td>\n",
       "    </tr>\n",
       "    <tr>\n",
       "      <th>2018-01-04</th>\n",
       "      <td>0</td>\n",
       "      <td>-8</td>\n",
       "      <td>阴</td>\n",
       "      <td>东北风</td>\n",
       "      <td>1-2级</td>\n",
       "      <td>28</td>\n",
       "      <td>优</td>\n",
       "      <td>1</td>\n",
       "    </tr>\n",
       "    <tr>\n",
       "      <th>2018-01-05</th>\n",
       "      <td>3</td>\n",
       "      <td>-6</td>\n",
       "      <td>多云~晴</td>\n",
       "      <td>西北风</td>\n",
       "      <td>1-2级</td>\n",
       "      <td>50</td>\n",
       "      <td>优</td>\n",
       "      <td>1</td>\n",
       "    </tr>\n",
       "    <tr>\n",
       "      <th>2018-01-06</th>\n",
       "      <td>2</td>\n",
       "      <td>-5</td>\n",
       "      <td>多云~阴</td>\n",
       "      <td>西南风</td>\n",
       "      <td>1-2级</td>\n",
       "      <td>32</td>\n",
       "      <td>优</td>\n",
       "      <td>1</td>\n",
       "    </tr>\n",
       "    <tr>\n",
       "      <th>2018-01-08</th>\n",
       "      <td>2</td>\n",
       "      <td>-6</td>\n",
       "      <td>晴</td>\n",
       "      <td>西北风</td>\n",
       "      <td>4-5级</td>\n",
       "      <td>50</td>\n",
       "      <td>优</td>\n",
       "      <td>1</td>\n",
       "    </tr>\n",
       "    <tr>\n",
       "      <th>2018-01-09</th>\n",
       "      <td>1</td>\n",
       "      <td>-8</td>\n",
       "      <td>晴</td>\n",
       "      <td>西北风</td>\n",
       "      <td>3-4级</td>\n",
       "      <td>34</td>\n",
       "      <td>优</td>\n",
       "      <td>1</td>\n",
       "    </tr>\n",
       "    <tr>\n",
       "      <th>2018-01/10</th>\n",
       "      <td>-2</td>\n",
       "      <td>-10</td>\n",
       "      <td>晴</td>\n",
       "      <td>西北风</td>\n",
       "      <td>1-2级</td>\n",
       "      <td>26</td>\n",
       "      <td>优</td>\n",
       "      <td>1</td>\n",
       "    </tr>\n",
       "  </tbody>\n",
       "</table>\n",
       "</div>"
      ],
      "text/plain": [
       "           bWendu yWendu tianqi fengxiang fengli  aqi aqiInfo  aqiLevel\n",
       "ymd                                                                    \n",
       "2018-01-02      2     -5   阴~多云       东北风   1-2级   49       优         1\n",
       "2018-01-03      2     -5     多云        北风   1-2级   28       优         1\n",
       "2018-01-04      0     -8      阴       东北风   1-2级   28       优         1\n",
       "2018-01-05      3     -6   多云~晴       西北风   1-2级   50       优         1\n",
       "2018-01-06      2     -5   多云~阴       西南风   1-2级   32       优         1\n",
       "2018-01-08      2     -6      晴       西北风   4-5级   50       优         1\n",
       "2018-01-09      1     -8      晴       西北风   3-4级   34       优         1\n",
       "2018-01/10     -2    -10      晴       西北风   1-2级   26       优         1"
      ]
     },
     "execution_count": 132,
     "metadata": {},
     "output_type": "execute_result"
    }
   ],
   "source": [
    "# 编写自己的函数，查询1月份，空气质量最好的数据\n",
    "def query_my_data(df):\n",
    "    return df.index.str.startswith(\"2018-01\")&(df[\"aqiLevel\"]==1)\n",
    "# df.index表示调用df的索引，即日期；.str表示把调用的日期变成字符串形式；.startswith\n",
    "\n",
    "df.loc[query_my_data,:]"
   ]
  },
  {
   "cell_type": "code",
   "execution_count": null,
   "id": "cbe26e06-333f-41a0-8167-ea0b5a688476",
   "metadata": {},
   "outputs": [],
   "source": []
  },
  {
   "cell_type": "code",
   "execution_count": null,
   "id": "4fab15f2-b0df-481d-b66a-7fe27f485052",
   "metadata": {},
   "outputs": [],
   "source": []
  }
 ],
 "metadata": {
  "kernelspec": {
   "display_name": "Python 3 (ipykernel)",
   "language": "python",
   "name": "python3"
  },
  "language_info": {
   "codemirror_mode": {
    "name": "ipython",
    "version": 3
   },
   "file_extension": ".py",
   "mimetype": "text/x-python",
   "name": "python",
   "nbconvert_exporter": "python",
   "pygments_lexer": "ipython3",
   "version": "3.13.2"
  }
 },
 "nbformat": 4,
 "nbformat_minor": 5
}
