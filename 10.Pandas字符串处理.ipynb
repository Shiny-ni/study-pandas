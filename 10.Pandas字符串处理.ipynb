{
 "cells": [
  {
   "cell_type": "markdown",
   "id": "5ac8c3f5-41ec-4352-85e4-8d755485ab29",
   "metadata": {},
   "source": [
    "# **Pandas字符串处理**\n",
    "#### 前面我们已经使用了字符串的处理函数：\n",
    "#### df[\"bWendu\"].str.replace(\"℃\",\"\").astype('int32')\n",
    "#####\n",
    "#### **Pandas的字符串处理：**\n",
    "####  1.使用方法：先获取Series的str属性，然后在属性上调用函数；\n",
    "####  2.只能在字符串列上使用，不能数字列上使用；\n",
    "####  3.DataFrame上没有str属性和处理方法；\n",
    "####  4.Series.str并不是Python原生字符串，而是自己的一套方法，不过大部分和原生str很相似。\n",
    "#####\n",
    "#### **Series.str字符串方法列表参考文档：**\n",
    "#### https://pandas.pydata.org/pandas-docs/stable/reference/series.html#string-handling\n",
    "#####\n",
    "#### **本章演示内容：**\n",
    "####  1.获取Series的str属性，然后使用各种字符串处理函数\n",
    "####  2.使用str的startswith、contains等bool类Series可以做条件查询\n",
    "####  3.需要多次str处理的链式操作\n",
    "####  4.使用正则表达式的处理"
   ]
  },
  {
   "cell_type": "markdown",
   "id": "e0110878-deb8-427c-aa87-a1c31c90e68f",
   "metadata": {},
   "source": [
    "## 0、读取北京2018年天气预报"
   ]
  },
  {
   "cell_type": "code",
   "execution_count": 1,
   "id": "f5fd07f3-9b29-40a4-ad89-6e8b3cbf09bc",
   "metadata": {},
   "outputs": [],
   "source": [
    "import pandas as pd"
   ]
  },
  {
   "cell_type": "code",
   "execution_count": 2,
   "id": "5d78d3b7-48bf-4773-b2ca-eed8568eaeb6",
   "metadata": {},
   "outputs": [],
   "source": [
    "fpath=\"./datas/beijing_tianqi/beijing_tianqi_2018.csv\"\n",
    "df=pd.read_csv(fpath,encoding='gbk')"
   ]
  },
  {
   "cell_type": "code",
   "execution_count": 3,
   "id": "8234ff54-f279-46e7-83f0-168e38d1d605",
   "metadata": {},
   "outputs": [
    {
     "data": {
      "text/html": [
       "<div>\n",
       "<style scoped>\n",
       "    .dataframe tbody tr th:only-of-type {\n",
       "        vertical-align: middle;\n",
       "    }\n",
       "\n",
       "    .dataframe tbody tr th {\n",
       "        vertical-align: top;\n",
       "    }\n",
       "\n",
       "    .dataframe thead th {\n",
       "        text-align: right;\n",
       "    }\n",
       "</style>\n",
       "<table border=\"1\" class=\"dataframe\">\n",
       "  <thead>\n",
       "    <tr style=\"text-align: right;\">\n",
       "      <th></th>\n",
       "      <th>ymd</th>\n",
       "      <th>bWendu</th>\n",
       "      <th>yWendu</th>\n",
       "      <th>tianqi</th>\n",
       "      <th>fengxiang</th>\n",
       "      <th>fengli</th>\n",
       "      <th>aqi</th>\n",
       "      <th>aqiInfo</th>\n",
       "      <th>aqiLevel</th>\n",
       "    </tr>\n",
       "  </thead>\n",
       "  <tbody>\n",
       "    <tr>\n",
       "      <th>0</th>\n",
       "      <td>2018-01-01</td>\n",
       "      <td>3℃</td>\n",
       "      <td>-6℃</td>\n",
       "      <td>晴~多云</td>\n",
       "      <td>东北风</td>\n",
       "      <td>1-2级</td>\n",
       "      <td>59</td>\n",
       "      <td>良</td>\n",
       "      <td>2</td>\n",
       "    </tr>\n",
       "    <tr>\n",
       "      <th>1</th>\n",
       "      <td>2018-01-02</td>\n",
       "      <td>2℃</td>\n",
       "      <td>-5℃</td>\n",
       "      <td>阴~多云</td>\n",
       "      <td>东北风</td>\n",
       "      <td>1-2级</td>\n",
       "      <td>49</td>\n",
       "      <td>优</td>\n",
       "      <td>1</td>\n",
       "    </tr>\n",
       "    <tr>\n",
       "      <th>2</th>\n",
       "      <td>2018-01-03</td>\n",
       "      <td>2℃</td>\n",
       "      <td>-5℃</td>\n",
       "      <td>多云</td>\n",
       "      <td>北风</td>\n",
       "      <td>1-2级</td>\n",
       "      <td>28</td>\n",
       "      <td>优</td>\n",
       "      <td>1</td>\n",
       "    </tr>\n",
       "    <tr>\n",
       "      <th>3</th>\n",
       "      <td>2018-01-04</td>\n",
       "      <td>0℃</td>\n",
       "      <td>-8℃</td>\n",
       "      <td>阴</td>\n",
       "      <td>东北风</td>\n",
       "      <td>1-2级</td>\n",
       "      <td>28</td>\n",
       "      <td>优</td>\n",
       "      <td>1</td>\n",
       "    </tr>\n",
       "    <tr>\n",
       "      <th>4</th>\n",
       "      <td>2018-01-05</td>\n",
       "      <td>3℃</td>\n",
       "      <td>-6℃</td>\n",
       "      <td>多云~晴</td>\n",
       "      <td>西北风</td>\n",
       "      <td>1-2级</td>\n",
       "      <td>50</td>\n",
       "      <td>优</td>\n",
       "      <td>1</td>\n",
       "    </tr>\n",
       "  </tbody>\n",
       "</table>\n",
       "</div>"
      ],
      "text/plain": [
       "          ymd bWendu yWendu tianqi fengxiang fengli  aqi aqiInfo  aqiLevel\n",
       "0  2018-01-01     3℃    -6℃   晴~多云       东北风   1-2级   59       良         2\n",
       "1  2018-01-02     2℃    -5℃   阴~多云       东北风   1-2级   49       优         1\n",
       "2  2018-01-03     2℃    -5℃     多云        北风   1-2级   28       优         1\n",
       "3  2018-01-04     0℃    -8℃      阴       东北风   1-2级   28       优         1\n",
       "4  2018-01-05     3℃    -6℃   多云~晴       西北风   1-2级   50       优         1"
      ]
     },
     "execution_count": 3,
     "metadata": {},
     "output_type": "execute_result"
    }
   ],
   "source": [
    "df.head()"
   ]
  },
  {
   "cell_type": "code",
   "execution_count": 4,
   "id": "f65fddbf-44a7-4da5-b5b6-fe0ac4d36781",
   "metadata": {},
   "outputs": [
    {
     "data": {
      "text/plain": [
       "ymd          object\n",
       "bWendu       object\n",
       "yWendu       object\n",
       "tianqi       object\n",
       "fengxiang    object\n",
       "fengli       object\n",
       "aqi           int64\n",
       "aqiInfo      object\n",
       "aqiLevel      int64\n",
       "dtype: object"
      ]
     },
     "execution_count": 4,
     "metadata": {},
     "output_type": "execute_result"
    }
   ],
   "source": [
    "df.dtypes"
   ]
  },
  {
   "cell_type": "markdown",
   "id": "7b711b5b-e3f2-44e1-adf2-1d9f4b03cf73",
   "metadata": {},
   "source": [
    "## 1、获取Series的str属性，使用各种字符串处理函数"
   ]
  },
  {
   "cell_type": "code",
   "execution_count": 5,
   "id": "25bd77bc-0cc8-4687-a6b9-af66dfb96440",
   "metadata": {},
   "outputs": [
    {
     "data": {
      "text/plain": [
       "<pandas.core.strings.accessor.StringMethods at 0x2011f3d7b60>"
      ]
     },
     "execution_count": 5,
     "metadata": {},
     "output_type": "execute_result"
    }
   ],
   "source": [
    "df[\"bWendu\"].str"
   ]
  },
  {
   "cell_type": "code",
   "execution_count": 6,
   "id": "1e322e83-8741-4e48-8804-b6f0b13baac1",
   "metadata": {},
   "outputs": [
    {
     "data": {
      "text/plain": [
       "0      3\n",
       "1      2\n",
       "2      2\n",
       "3      0\n",
       "4      3\n",
       "5      2\n",
       "6      2\n",
       "7      2\n",
       "8      1\n",
       "9     -2\n",
       "10    -4\n",
       "11    -4\n",
       "12    -3\n",
       "13    -2\n",
       "14    -5\n",
       "15    30\n",
       "16    27\n",
       "17     8\n",
       "18     9\n",
       "19    13\n",
       "20     7\n",
       "21     8\n",
       "Name: bWendu, dtype: object"
      ]
     },
     "execution_count": 6,
     "metadata": {},
     "output_type": "execute_result"
    }
   ],
   "source": [
    "# 字符串替换函数\n",
    "df[\"bWendu\"].str.replace(\"℃\",\"\")"
   ]
  },
  {
   "cell_type": "code",
   "execution_count": 7,
   "id": "0c547250-5a81-494e-9e65-64c65fcf1495",
   "metadata": {},
   "outputs": [
    {
     "data": {
      "text/plain": [
       "0     False\n",
       "1     False\n",
       "2     False\n",
       "3     False\n",
       "4     False\n",
       "5     False\n",
       "6     False\n",
       "7     False\n",
       "8     False\n",
       "9     False\n",
       "10    False\n",
       "11    False\n",
       "12    False\n",
       "13    False\n",
       "14    False\n",
       "15    False\n",
       "16    False\n",
       "17    False\n",
       "18    False\n",
       "19    False\n",
       "20    False\n",
       "21    False\n",
       "Name: bWendu, dtype: bool"
      ]
     },
     "execution_count": 7,
     "metadata": {},
     "output_type": "execute_result"
    }
   ],
   "source": [
    "# 判断是不是数字\n",
    "df[\"bWendu\"].str.isnumeric()"
   ]
  },
  {
   "cell_type": "code",
   "execution_count": 8,
   "id": "93924319-a5b4-41cf-9d42-ccc77c67950b",
   "metadata": {},
   "outputs": [
    {
     "ename": "AttributeError",
     "evalue": "Can only use .str accessor with string values!",
     "output_type": "error",
     "traceback": [
      "\u001b[31m---------------------------------------------------------------------------\u001b[39m",
      "\u001b[31mAttributeError\u001b[39m                            Traceback (most recent call last)",
      "\u001b[36mCell\u001b[39m\u001b[36m \u001b[39m\u001b[32mIn[8]\u001b[39m\u001b[32m, line 2\u001b[39m\n\u001b[32m      1\u001b[39m \u001b[38;5;66;03m# str只能在string类型的数据上使用，在数字类型的数据上会报错，如下：\u001b[39;00m\n\u001b[32m----> \u001b[39m\u001b[32m2\u001b[39m \u001b[43mdf\u001b[49m\u001b[43m[\u001b[49m\u001b[33;43m\"\u001b[39;49m\u001b[33;43maqi\u001b[39;49m\u001b[33;43m\"\u001b[39;49m\u001b[43m]\u001b[49m\u001b[43m.\u001b[49m\u001b[43mstr\u001b[49m.len()\n",
      "\u001b[36mFile \u001b[39m\u001b[32mD:\\Python\\Lib\\site-packages\\pandas\\core\\generic.py:6318\u001b[39m, in \u001b[36mNDFrame.__getattr__\u001b[39m\u001b[34m(self, name)\u001b[39m\n\u001b[32m   6311\u001b[39m \u001b[38;5;28;01mif\u001b[39;00m (\n\u001b[32m   6312\u001b[39m     name \u001b[38;5;129;01mnot\u001b[39;00m \u001b[38;5;129;01min\u001b[39;00m \u001b[38;5;28mself\u001b[39m._internal_names_set\n\u001b[32m   6313\u001b[39m     \u001b[38;5;129;01mand\u001b[39;00m name \u001b[38;5;129;01mnot\u001b[39;00m \u001b[38;5;129;01min\u001b[39;00m \u001b[38;5;28mself\u001b[39m._metadata\n\u001b[32m   6314\u001b[39m     \u001b[38;5;129;01mand\u001b[39;00m name \u001b[38;5;129;01mnot\u001b[39;00m \u001b[38;5;129;01min\u001b[39;00m \u001b[38;5;28mself\u001b[39m._accessors\n\u001b[32m   6315\u001b[39m     \u001b[38;5;129;01mand\u001b[39;00m \u001b[38;5;28mself\u001b[39m._info_axis._can_hold_identifiers_and_holds_name(name)\n\u001b[32m   6316\u001b[39m ):\n\u001b[32m   6317\u001b[39m     \u001b[38;5;28;01mreturn\u001b[39;00m \u001b[38;5;28mself\u001b[39m[name]\n\u001b[32m-> \u001b[39m\u001b[32m6318\u001b[39m \u001b[38;5;28;01mreturn\u001b[39;00m \u001b[38;5;28;43mobject\u001b[39;49m\u001b[43m.\u001b[49m\u001b[34;43m__getattribute__\u001b[39;49m\u001b[43m(\u001b[49m\u001b[38;5;28;43mself\u001b[39;49m\u001b[43m,\u001b[49m\u001b[43m \u001b[49m\u001b[43mname\u001b[49m\u001b[43m)\u001b[49m\n",
      "\u001b[36mFile \u001b[39m\u001b[32mD:\\Python\\Lib\\site-packages\\pandas\\core\\accessor.py:224\u001b[39m, in \u001b[36mCachedAccessor.__get__\u001b[39m\u001b[34m(self, obj, cls)\u001b[39m\n\u001b[32m    221\u001b[39m \u001b[38;5;28;01mif\u001b[39;00m obj \u001b[38;5;129;01mis\u001b[39;00m \u001b[38;5;28;01mNone\u001b[39;00m:\n\u001b[32m    222\u001b[39m     \u001b[38;5;66;03m# we're accessing the attribute of the class, i.e., Dataset.geo\u001b[39;00m\n\u001b[32m    223\u001b[39m     \u001b[38;5;28;01mreturn\u001b[39;00m \u001b[38;5;28mself\u001b[39m._accessor\n\u001b[32m--> \u001b[39m\u001b[32m224\u001b[39m accessor_obj = \u001b[38;5;28;43mself\u001b[39;49m\u001b[43m.\u001b[49m\u001b[43m_accessor\u001b[49m\u001b[43m(\u001b[49m\u001b[43mobj\u001b[49m\u001b[43m)\u001b[49m\n\u001b[32m    225\u001b[39m \u001b[38;5;66;03m# Replace the property with the accessor object. Inspired by:\u001b[39;00m\n\u001b[32m    226\u001b[39m \u001b[38;5;66;03m# https://www.pydanny.com/cached-property.html\u001b[39;00m\n\u001b[32m    227\u001b[39m \u001b[38;5;66;03m# We need to use object.__setattr__ because we overwrite __setattr__ on\u001b[39;00m\n\u001b[32m    228\u001b[39m \u001b[38;5;66;03m# NDFrame\u001b[39;00m\n\u001b[32m    229\u001b[39m \u001b[38;5;28mobject\u001b[39m.\u001b[34m__setattr__\u001b[39m(obj, \u001b[38;5;28mself\u001b[39m._name, accessor_obj)\n",
      "\u001b[36mFile \u001b[39m\u001b[32mD:\\Python\\Lib\\site-packages\\pandas\\core\\strings\\accessor.py:194\u001b[39m, in \u001b[36mStringMethods.__init__\u001b[39m\u001b[34m(self, data)\u001b[39m\n\u001b[32m    191\u001b[39m \u001b[38;5;28;01mdef\u001b[39;00m\u001b[38;5;250m \u001b[39m\u001b[34m__init__\u001b[39m(\u001b[38;5;28mself\u001b[39m, data) -> \u001b[38;5;28;01mNone\u001b[39;00m:\n\u001b[32m    192\u001b[39m     \u001b[38;5;28;01mfrom\u001b[39;00m\u001b[38;5;250m \u001b[39m\u001b[34;01mpandas\u001b[39;00m\u001b[34;01m.\u001b[39;00m\u001b[34;01mcore\u001b[39;00m\u001b[34;01m.\u001b[39;00m\u001b[34;01marrays\u001b[39;00m\u001b[34;01m.\u001b[39;00m\u001b[34;01mstring_\u001b[39;00m\u001b[38;5;250m \u001b[39m\u001b[38;5;28;01mimport\u001b[39;00m StringDtype\n\u001b[32m--> \u001b[39m\u001b[32m194\u001b[39m     \u001b[38;5;28mself\u001b[39m._inferred_dtype = \u001b[38;5;28;43mself\u001b[39;49m\u001b[43m.\u001b[49m\u001b[43m_validate\u001b[49m\u001b[43m(\u001b[49m\u001b[43mdata\u001b[49m\u001b[43m)\u001b[49m\n\u001b[32m    195\u001b[39m     \u001b[38;5;28mself\u001b[39m._is_categorical = \u001b[38;5;28misinstance\u001b[39m(data.dtype, CategoricalDtype)\n\u001b[32m    196\u001b[39m     \u001b[38;5;28mself\u001b[39m._is_string = \u001b[38;5;28misinstance\u001b[39m(data.dtype, StringDtype)\n",
      "\u001b[36mFile \u001b[39m\u001b[32mD:\\Python\\Lib\\site-packages\\pandas\\core\\strings\\accessor.py:248\u001b[39m, in \u001b[36mStringMethods._validate\u001b[39m\u001b[34m(data)\u001b[39m\n\u001b[32m    245\u001b[39m inferred_dtype = lib.infer_dtype(values, skipna=\u001b[38;5;28;01mTrue\u001b[39;00m)\n\u001b[32m    247\u001b[39m \u001b[38;5;28;01mif\u001b[39;00m inferred_dtype \u001b[38;5;129;01mnot\u001b[39;00m \u001b[38;5;129;01min\u001b[39;00m allowed_types:\n\u001b[32m--> \u001b[39m\u001b[32m248\u001b[39m     \u001b[38;5;28;01mraise\u001b[39;00m \u001b[38;5;167;01mAttributeError\u001b[39;00m(\u001b[33m\"\u001b[39m\u001b[33mCan only use .str accessor with string values!\u001b[39m\u001b[33m\"\u001b[39m)\n\u001b[32m    249\u001b[39m \u001b[38;5;28;01mreturn\u001b[39;00m inferred_dtype\n",
      "\u001b[31mAttributeError\u001b[39m: Can only use .str accessor with string values!"
     ]
    }
   ],
   "source": [
    "# str只能在string类型的数据上使用，在数字类型的数据上会报错，如下：\n",
    "df[\"aqi\"].str.len()"
   ]
  },
  {
   "cell_type": "markdown",
   "id": "2fef08dc-1b04-4185-aa9f-8614c9b6cdbc",
   "metadata": {},
   "source": [
    "## 2、使用str的startswith、contains等得到bool的Series可以做条件查询"
   ]
  },
  {
   "cell_type": "code",
   "execution_count": 9,
   "id": "10518e73-49e6-4ab5-89ec-fa4841cee048",
   "metadata": {},
   "outputs": [],
   "source": [
    "condition = df[\"ymd\"].str.startswith(\"2018-03\")"
   ]
  },
  {
   "cell_type": "code",
   "execution_count": 11,
   "id": "39747b6a-7632-4b16-b0a4-c764ae462953",
   "metadata": {},
   "outputs": [
    {
     "data": {
      "text/plain": [
       "0     False\n",
       "1     False\n",
       "2     False\n",
       "3     False\n",
       "4     False\n",
       "5     False\n",
       "6     False\n",
       "7     False\n",
       "8     False\n",
       "9     False\n",
       "10    False\n",
       "11    False\n",
       "12    False\n",
       "13    False\n",
       "14    False\n",
       "15    False\n",
       "16    False\n",
       "17     True\n",
       "18     True\n",
       "19     True\n",
       "20     True\n",
       "21     True\n",
       "Name: ymd, dtype: bool"
      ]
     },
     "execution_count": 11,
     "metadata": {},
     "output_type": "execute_result"
    }
   ],
   "source": [
    "condition # 结果condition是bool类型"
   ]
  },
  {
   "cell_type": "code",
   "execution_count": 12,
   "id": "470a94e3-5742-4041-99b0-267595a224e1",
   "metadata": {},
   "outputs": [
    {
     "data": {
      "text/html": [
       "<div>\n",
       "<style scoped>\n",
       "    .dataframe tbody tr th:only-of-type {\n",
       "        vertical-align: middle;\n",
       "    }\n",
       "\n",
       "    .dataframe tbody tr th {\n",
       "        vertical-align: top;\n",
       "    }\n",
       "\n",
       "    .dataframe thead th {\n",
       "        text-align: right;\n",
       "    }\n",
       "</style>\n",
       "<table border=\"1\" class=\"dataframe\">\n",
       "  <thead>\n",
       "    <tr style=\"text-align: right;\">\n",
       "      <th></th>\n",
       "      <th>ymd</th>\n",
       "      <th>bWendu</th>\n",
       "      <th>yWendu</th>\n",
       "      <th>tianqi</th>\n",
       "      <th>fengxiang</th>\n",
       "      <th>fengli</th>\n",
       "      <th>aqi</th>\n",
       "      <th>aqiInfo</th>\n",
       "      <th>aqiLevel</th>\n",
       "    </tr>\n",
       "  </thead>\n",
       "  <tbody>\n",
       "    <tr>\n",
       "      <th>17</th>\n",
       "      <td>2018-03-01</td>\n",
       "      <td>8℃</td>\n",
       "      <td>-3℃</td>\n",
       "      <td>多云</td>\n",
       "      <td>西南风</td>\n",
       "      <td>1-2级</td>\n",
       "      <td>46</td>\n",
       "      <td>优</td>\n",
       "      <td>1</td>\n",
       "    </tr>\n",
       "    <tr>\n",
       "      <th>18</th>\n",
       "      <td>2018-03-02</td>\n",
       "      <td>9℃</td>\n",
       "      <td>-1℃</td>\n",
       "      <td>晴~多云</td>\n",
       "      <td>北风</td>\n",
       "      <td>1-2级</td>\n",
       "      <td>95</td>\n",
       "      <td>良</td>\n",
       "      <td>2</td>\n",
       "    </tr>\n",
       "    <tr>\n",
       "      <th>19</th>\n",
       "      <td>2018-03-03</td>\n",
       "      <td>13℃</td>\n",
       "      <td>3℃</td>\n",
       "      <td>多云~阴</td>\n",
       "      <td>北风</td>\n",
       "      <td>1-2级</td>\n",
       "      <td>214</td>\n",
       "      <td>重度污染</td>\n",
       "      <td>5</td>\n",
       "    </tr>\n",
       "    <tr>\n",
       "      <th>20</th>\n",
       "      <td>2018-03-04</td>\n",
       "      <td>7℃</td>\n",
       "      <td>-2℃</td>\n",
       "      <td>阴~多云</td>\n",
       "      <td>东南风</td>\n",
       "      <td>1-2级</td>\n",
       "      <td>144</td>\n",
       "      <td>轻度污染</td>\n",
       "      <td>3</td>\n",
       "    </tr>\n",
       "    <tr>\n",
       "      <th>21</th>\n",
       "      <td>2018-03-05</td>\n",
       "      <td>8℃</td>\n",
       "      <td>-3℃</td>\n",
       "      <td>晴</td>\n",
       "      <td>南风</td>\n",
       "      <td>1-2级</td>\n",
       "      <td>94</td>\n",
       "      <td>良</td>\n",
       "      <td>2</td>\n",
       "    </tr>\n",
       "  </tbody>\n",
       "</table>\n",
       "</div>"
      ],
      "text/plain": [
       "           ymd bWendu yWendu tianqi fengxiang fengli  aqi aqiInfo  aqiLevel\n",
       "17  2018-03-01     8℃    -3℃     多云       西南风   1-2级   46       优         1\n",
       "18  2018-03-02     9℃    -1℃   晴~多云        北风   1-2级   95       良         2\n",
       "19  2018-03-03    13℃     3℃   多云~阴        北风   1-2级  214    重度污染         5\n",
       "20  2018-03-04     7℃    -2℃   阴~多云       东南风   1-2级  144    轻度污染         3\n",
       "21  2018-03-05     8℃    -3℃      晴        南风   1-2级   94       良         2"
      ]
     },
     "execution_count": 12,
     "metadata": {},
     "output_type": "execute_result"
    }
   ],
   "source": [
    "df[condition].head()"
   ]
  },
  {
   "cell_type": "markdown",
   "id": "0cfd1270-2060-4acc-b9fe-2fea39ff26c9",
   "metadata": {},
   "source": [
    "## 3、需要多次str处理的链式操作\n",
    "#### 如：怎样提取201803这样的数字月份？\n",
    "#### 1、先将日期2018-03-01替换成20180301的形式\n",
    "#### 2、提取月份字符串201803"
   ]
  },
  {
   "cell_type": "code",
   "execution_count": 13,
   "id": "5f29cdfd-8b47-4f01-abcd-789a5946ac43",
   "metadata": {},
   "outputs": [
    {
     "data": {
      "text/plain": [
       "0     20180101\n",
       "1     20180102\n",
       "2     20180103\n",
       "3     20180104\n",
       "4     20180105\n",
       "5     20180106\n",
       "6     20180107\n",
       "7     20180108\n",
       "8     20180109\n",
       "9     20180110\n",
       "10    20180123\n",
       "11    20180124\n",
       "12    20180125\n",
       "13    20181226\n",
       "14    20181227\n",
       "15    20180824\n",
       "16    20180907\n",
       "17    20180301\n",
       "18    20180302\n",
       "19    20180303\n",
       "20    20180304\n",
       "21    20180305\n",
       "Name: ymd, dtype: object"
      ]
     },
     "execution_count": 13,
     "metadata": {},
     "output_type": "execute_result"
    }
   ],
   "source": [
    "df[\"ymd\"].str.replace(\"-\",\"\")"
   ]
  },
  {
   "cell_type": "code",
   "execution_count": 14,
   "id": "2f7675f1-95cc-4ce4-9a64-28cc3ccaf45b",
   "metadata": {},
   "outputs": [
    {
     "ename": "AttributeError",
     "evalue": "'Series' object has no attribute 'slice'",
     "output_type": "error",
     "traceback": [
      "\u001b[31m---------------------------------------------------------------------------\u001b[39m",
      "\u001b[31mAttributeError\u001b[39m                            Traceback (most recent call last)",
      "\u001b[36mCell\u001b[39m\u001b[36m \u001b[39m\u001b[32mIn[14]\u001b[39m\u001b[32m, line 2\u001b[39m\n\u001b[32m      1\u001b[39m \u001b[38;5;66;03m# 每次调用函数，都返回一个新Series\u001b[39;00m\n\u001b[32m----> \u001b[39m\u001b[32m2\u001b[39m \u001b[43mdf\u001b[49m\u001b[43m[\u001b[49m\u001b[33;43m\"\u001b[39;49m\u001b[33;43mymd\u001b[39;49m\u001b[33;43m\"\u001b[39;49m\u001b[43m]\u001b[49m\u001b[43m.\u001b[49m\u001b[43mstr\u001b[49m\u001b[43m.\u001b[49m\u001b[43mreplace\u001b[49m\u001b[43m(\u001b[49m\u001b[33;43m\"\u001b[39;49m\u001b[33;43m-\u001b[39;49m\u001b[33;43m\"\u001b[39;49m\u001b[43m,\u001b[49m\u001b[33;43m\"\u001b[39;49m\u001b[33;43m\"\u001b[39;49m\u001b[43m)\u001b[49m\u001b[43m.\u001b[49m\u001b[43mslice\u001b[49m(\u001b[32m0\u001b[39m,\u001b[32m6\u001b[39m)\n\u001b[32m      3\u001b[39m \u001b[38;5;66;03m# 这个会报错，因为slice()是属于str的语法，而不属于Series对象上，\u001b[39;00m\n\u001b[32m      4\u001b[39m \u001b[38;5;66;03m# 所以，直接在Series上调用slice()方法是不可以的\u001b[39;00m\n",
      "\u001b[36mFile \u001b[39m\u001b[32mD:\\Python\\Lib\\site-packages\\pandas\\core\\generic.py:6318\u001b[39m, in \u001b[36mNDFrame.__getattr__\u001b[39m\u001b[34m(self, name)\u001b[39m\n\u001b[32m   6311\u001b[39m \u001b[38;5;28;01mif\u001b[39;00m (\n\u001b[32m   6312\u001b[39m     name \u001b[38;5;129;01mnot\u001b[39;00m \u001b[38;5;129;01min\u001b[39;00m \u001b[38;5;28mself\u001b[39m._internal_names_set\n\u001b[32m   6313\u001b[39m     \u001b[38;5;129;01mand\u001b[39;00m name \u001b[38;5;129;01mnot\u001b[39;00m \u001b[38;5;129;01min\u001b[39;00m \u001b[38;5;28mself\u001b[39m._metadata\n\u001b[32m   6314\u001b[39m     \u001b[38;5;129;01mand\u001b[39;00m name \u001b[38;5;129;01mnot\u001b[39;00m \u001b[38;5;129;01min\u001b[39;00m \u001b[38;5;28mself\u001b[39m._accessors\n\u001b[32m   6315\u001b[39m     \u001b[38;5;129;01mand\u001b[39;00m \u001b[38;5;28mself\u001b[39m._info_axis._can_hold_identifiers_and_holds_name(name)\n\u001b[32m   6316\u001b[39m ):\n\u001b[32m   6317\u001b[39m     \u001b[38;5;28;01mreturn\u001b[39;00m \u001b[38;5;28mself\u001b[39m[name]\n\u001b[32m-> \u001b[39m\u001b[32m6318\u001b[39m \u001b[38;5;28;01mreturn\u001b[39;00m \u001b[38;5;28;43mobject\u001b[39;49m\u001b[43m.\u001b[49m\u001b[34;43m__getattribute__\u001b[39;49m\u001b[43m(\u001b[49m\u001b[38;5;28;43mself\u001b[39;49m\u001b[43m,\u001b[49m\u001b[43m \u001b[49m\u001b[43mname\u001b[49m\u001b[43m)\u001b[49m\n",
      "\u001b[31mAttributeError\u001b[39m: 'Series' object has no attribute 'slice'"
     ]
    }
   ],
   "source": [
    "# 每次调用函数，都返回一个新Series\n",
    "df[\"ymd\"].str.replace(\"-\",\"\").slice(0,6)\n",
    "# 这个会报错，因为slice()是属于str的语法，而不属于Series对象上，\n",
    "# 所以，直接在Series上调用slice()方法是不可以的"
   ]
  },
  {
   "cell_type": "code",
   "execution_count": 15,
   "id": "78c7c880-7eb1-41b1-aac5-b5871cb59b67",
   "metadata": {},
   "outputs": [
    {
     "data": {
      "text/plain": [
       "0     201801\n",
       "1     201801\n",
       "2     201801\n",
       "3     201801\n",
       "4     201801\n",
       "5     201801\n",
       "6     201801\n",
       "7     201801\n",
       "8     201801\n",
       "9     201801\n",
       "10    201801\n",
       "11    201801\n",
       "12    201801\n",
       "13    201812\n",
       "14    201812\n",
       "15    201808\n",
       "16    201809\n",
       "17    201803\n",
       "18    201803\n",
       "19    201803\n",
       "20    201803\n",
       "21    201803\n",
       "Name: ymd, dtype: object"
      ]
     },
     "execution_count": 15,
     "metadata": {},
     "output_type": "execute_result"
    }
   ],
   "source": [
    "# 正确写法：\n",
    "df[\"ymd\"].str.replace(\"-\",\"\").str.slice(0,6)"
   ]
  },
  {
   "cell_type": "code",
   "execution_count": 16,
   "id": "d48bb197-b912-48b8-8fff-a66c734a96d1",
   "metadata": {},
   "outputs": [
    {
     "data": {
      "text/plain": [
       "0     201801\n",
       "1     201801\n",
       "2     201801\n",
       "3     201801\n",
       "4     201801\n",
       "5     201801\n",
       "6     201801\n",
       "7     201801\n",
       "8     201801\n",
       "9     201801\n",
       "10    201801\n",
       "11    201801\n",
       "12    201801\n",
       "13    201812\n",
       "14    201812\n",
       "15    201808\n",
       "16    201809\n",
       "17    201803\n",
       "18    201803\n",
       "19    201803\n",
       "20    201803\n",
       "21    201803\n",
       "Name: ymd, dtype: object"
      ]
     },
     "execution_count": 16,
     "metadata": {},
     "output_type": "execute_result"
    }
   ],
   "source": [
    "# slice就是切片语法，也可以直接使用，如下：\n",
    "df[\"ymd\"].str.replace(\"-\",\"\").str[0:6]"
   ]
  },
  {
   "cell_type": "markdown",
   "id": "9030045c-dc5f-490b-9fb8-2325981b817e",
   "metadata": {},
   "source": [
    "## 4、使用正则表达式的处理"
   ]
  },
  {
   "cell_type": "code",
   "execution_count": 17,
   "id": "0743ef84-bc3d-4c31-a545-b01055f9dc6e",
   "metadata": {},
   "outputs": [],
   "source": [
    "# 添加新列\n",
    "def get_nianyueri(x):\n",
    "    year,month,day=x[\"ymd\"].split(\"-\")\n",
    "    return f\"{year}年{month}月{day}日\"\n",
    "\n",
    "df[\"中文日期\"] = df.apply(get_nianyueri,axis=1)"
   ]
  },
  {
   "cell_type": "code",
   "execution_count": 18,
   "id": "190a379c-772f-46a5-997a-6f0883ffc290",
   "metadata": {},
   "outputs": [
    {
     "data": {
      "text/plain": [
       "0     2018年01月01日\n",
       "1     2018年01月02日\n",
       "2     2018年01月03日\n",
       "3     2018年01月04日\n",
       "4     2018年01月05日\n",
       "5     2018年01月06日\n",
       "6     2018年01月07日\n",
       "7     2018年01月08日\n",
       "8     2018年01月09日\n",
       "9     2018年01月10日\n",
       "10    2018年01月23日\n",
       "11    2018年01月24日\n",
       "12    2018年01月25日\n",
       "13    2018年12月26日\n",
       "14    2018年12月27日\n",
       "15    2018年08月24日\n",
       "16    2018年09月07日\n",
       "17    2018年03月01日\n",
       "18    2018年03月02日\n",
       "19    2018年03月03日\n",
       "20    2018年03月04日\n",
       "21    2018年03月05日\n",
       "Name: 中文日期, dtype: object"
      ]
     },
     "execution_count": 18,
     "metadata": {},
     "output_type": "execute_result"
    }
   ],
   "source": [
    "df[\"中文日期\"]"
   ]
  },
  {
   "cell_type": "markdown",
   "id": "95df5e54-993c-4b76-bd60-6c7aabf2ecad",
   "metadata": {},
   "source": [
    "#### 问题：怎样将“2018年12月26日”中的年、月、日三个中文字符去除？"
   ]
  },
  {
   "cell_type": "code",
   "execution_count": 19,
   "id": "abc791cb-9af4-400d-802a-46c6ba24b2d9",
   "metadata": {},
   "outputs": [
    {
     "data": {
      "text/plain": [
       "0     20180101\n",
       "1     20180102\n",
       "2     20180103\n",
       "3     20180104\n",
       "4     20180105\n",
       "5     20180106\n",
       "6     20180107\n",
       "7     20180108\n",
       "8     20180109\n",
       "9     20180110\n",
       "10    20180123\n",
       "11    20180124\n",
       "12    20180125\n",
       "13    20181226\n",
       "14    20181227\n",
       "15    20180824\n",
       "16    20180907\n",
       "17    20180301\n",
       "18    20180302\n",
       "19    20180303\n",
       "20    20180304\n",
       "21    20180305\n",
       "Name: 中文日期, dtype: object"
      ]
     },
     "execution_count": 19,
     "metadata": {},
     "output_type": "execute_result"
    }
   ],
   "source": [
    "# 方法1：链式replace\n",
    "df[\"中文日期\"].str.replace(\"年\",\"\").str.replace(\"月\",\"\").str.replace(\"日\",\"\")"
   ]
  },
  {
   "cell_type": "markdown",
   "id": "e5c2922e-d435-4aa8-b70c-2624d3b927dd",
   "metadata": {},
   "source": [
    "#### **Series.str默认就开启了正则表达式模式**"
   ]
  },
  {
   "cell_type": "code",
   "execution_count": 20,
   "id": "d852aa10-7818-40e5-be56-cefb7b6001bf",
   "metadata": {},
   "outputs": [
    {
     "data": {
      "text/plain": [
       "0     2018年01月01日\n",
       "1     2018年01月02日\n",
       "2     2018年01月03日\n",
       "3     2018年01月04日\n",
       "4     2018年01月05日\n",
       "5     2018年01月06日\n",
       "6     2018年01月07日\n",
       "7     2018年01月08日\n",
       "8     2018年01月09日\n",
       "9     2018年01月10日\n",
       "10    2018年01月23日\n",
       "11    2018年01月24日\n",
       "12    2018年01月25日\n",
       "13    2018年12月26日\n",
       "14    2018年12月27日\n",
       "15    2018年08月24日\n",
       "16    2018年09月07日\n",
       "17    2018年03月01日\n",
       "18    2018年03月02日\n",
       "19    2018年03月03日\n",
       "20    2018年03月04日\n",
       "21    2018年03月05日\n",
       "Name: 中文日期, dtype: object"
      ]
     },
     "execution_count": 20,
     "metadata": {},
     "output_type": "execute_result"
    }
   ],
   "source": [
    "# 方法2：正则表达式替换\n",
    "df[\"中文日期\"].str.replace(\"[年月日]\",\"\")"
   ]
  },
  {
   "cell_type": "code",
   "execution_count": null,
   "id": "f645f83a-2e1d-4767-877d-aedc45d9fd19",
   "metadata": {},
   "outputs": [],
   "source": []
  }
 ],
 "metadata": {
  "kernelspec": {
   "display_name": "Python 3 (ipykernel)",
   "language": "python",
   "name": "python3"
  },
  "language_info": {
   "codemirror_mode": {
    "name": "ipython",
    "version": 3
   },
   "file_extension": ".py",
   "mimetype": "text/x-python",
   "name": "python",
   "nbconvert_exporter": "python",
   "pygments_lexer": "ipython3",
   "version": "3.13.2"
  }
 },
 "nbformat": 4,
 "nbformat_minor": 5
}
